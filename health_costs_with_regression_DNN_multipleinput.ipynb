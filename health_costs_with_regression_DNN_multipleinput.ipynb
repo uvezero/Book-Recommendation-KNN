{
  "cells": [
    {
      "cell_type": "markdown",
      "metadata": {
        "id": "view-in-github",
        "colab_type": "text"
      },
      "source": [
        "<a href=\"https://colab.research.google.com/github/uvezero/Book-Recommendation-KNN/blob/main/health_costs_with_regression_DNN_multipleinput.ipynb\" target=\"_parent\"><img src=\"https://colab.research.google.com/assets/colab-badge.svg\" alt=\"Open In Colab\"/></a>"
      ]
    },
    {
      "cell_type": "code",
      "execution_count": null,
      "metadata": {
        "id": "1rRo8oNqZ-Rj"
      },
      "outputs": [],
      "source": [
        "# Import libraries. You may or may not use all of these.\n",
        "!pip install -q git+https://github.com/tensorflow/docs\n",
        "import matplotlib.pyplot as plt\n",
        "import numpy as np\n",
        "import pandas as pd\n",
        "\n",
        "try:\n",
        "  # %tensorflow_version only exists in Colab.\n",
        "  %tensorflow_version 2.x\n",
        "except Exception:\n",
        "  pass\n",
        "import tensorflow as tf\n",
        "\n",
        "from tensorflow import keras\n",
        "from tensorflow.keras import layers\n",
        "import tensorflow.compat.v2.feature_column as fc\n",
        "from sklearn.preprocessing import LabelEncoder\n",
        "from tensorflow.keras.layers.experimental import preprocessing\n",
        "import tensorflow_docs as tfdocs\n",
        "import tensorflow_docs.plots\n",
        "import tensorflow_docs.modeling\n",
        "from IPython.display import clear_output\n"
      ]
    },
    {
      "cell_type": "code",
      "execution_count": null,
      "metadata": {
        "id": "CiX2FI4gZtTt"
      },
      "outputs": [],
      "source": [
        "# Import data\n",
        "!wget https://cdn.freecodecamp.org/project-data/health-costs/insurance.csv\n",
        "dataset = pd.read_csv('insurance.csv')\n",
        "dataset.tail()"
      ]
    },
    {
      "cell_type": "markdown",
      "source": [
        "First lets check out the data and analyze it."
      ],
      "metadata": {
        "id": "PPx3_1Dez6bc"
      }
    },
    {
      "cell_type": "code",
      "source": [
        "dataset.age.hist(bins=10,color='turquoise')"
      ],
      "metadata": {
        "id": "RcjtPKYbyzgm"
      },
      "execution_count": null,
      "outputs": []
    },
    {
      "cell_type": "code",
      "source": [
        "dataset.children.value_counts().plot(kind='barh',color='crimson')"
      ],
      "metadata": {
        "id": "V2JnrZ7yzDjs"
      },
      "execution_count": null,
      "outputs": []
    },
    {
      "cell_type": "code",
      "source": [
        "dataset.sex.value_counts().plot(kind='barh',color='rosybrown')"
      ],
      "metadata": {
        "id": "CVucQW8QzY8G"
      },
      "execution_count": null,
      "outputs": []
    },
    {
      "cell_type": "code",
      "source": [
        "dataset.region.value_counts().plot(kind='barh',color='navy')"
      ],
      "metadata": {
        "id": "i1Rb1-b8zkgb"
      },
      "execution_count": null,
      "outputs": []
    },
    {
      "cell_type": "code",
      "source": [
        "dataset.smoker.value_counts().plot(kind='barh',color='k')"
      ],
      "metadata": {
        "id": "R-PPjxnb1Vu8"
      },
      "execution_count": null,
      "outputs": []
    },
    {
      "cell_type": "code",
      "source": [
        "dataset.expenses.hist(bins=30,color='palegreen')"
      ],
      "metadata": {
        "id": "oXxyI-Wpzg92"
      },
      "execution_count": null,
      "outputs": []
    },
    {
      "cell_type": "code",
      "source": [
        "dataset.describe().transpose() #This needs Normalization"
      ],
      "metadata": {
        "id": "Lnhclc9MRxmQ"
      },
      "execution_count": null,
      "outputs": []
    },
    {
      "cell_type": "code",
      "source": [
        "# lets encode smoker, region and sex columns\n",
        "encoder = LabelEncoder()\n",
        "dataset['sex']=encoder.fit_transform(dataset['sex'])\n",
        "dataset['smoker']=encoder.fit_transform(dataset['smoker'])\n",
        "dataset['region']=encoder.fit_transform(dataset['region'])\n",
        "dataset.tail()"
      ],
      "metadata": {
        "id": "wz9ofmHZUaTT"
      },
      "execution_count": null,
      "outputs": []
    },
    {
      "cell_type": "code",
      "source": [
        "#lets split dataset intro train(80%) and test(20%)\n",
        "train_dataset=dataset.sample(frac=0.8,random_state=25)\n",
        "test_dataset=dataset.drop(train_dataset.index)\n",
        "print(test_dataset.shape[0], train_dataset.shape[0])\n",
        "\n",
        "#pop expenses column\n",
        "train_labels=train_dataset.pop('expenses')\n",
        "test_labels=test_dataset.pop('expenses')"
      ],
      "metadata": {
        "id": "aqrTexcA6dLb"
      },
      "execution_count": null,
      "outputs": []
    },
    {
      "cell_type": "code",
      "source": [
        "def plot(feature, x=None, y=None):\n",
        "  plt.figure(figsize=(7,5))\n",
        "  plt.scatter(train_dataset[feature],train_labels,label='Data')\n",
        "  if x is not None and y is not None:\n",
        "    plt.plot(x,y,color='k', label='Predictions')\n",
        "  plt.xlabel(feature)\n",
        "  plt.ylabel('expenses')\n",
        "  plt.title(feature)\n",
        "  plt.legend()\n",
        "plot('bmi') , plot('age') #this output is not very intuitive but we are going to build the model for multiple inputs so we dont ened to choose a specific label as input"
      ],
      "metadata": {
        "id": "052LRGfkeHyS"
      },
      "execution_count": null,
      "outputs": []
    },
    {
      "cell_type": "code",
      "source": [
        "print(train_dataset.describe().transpose()[['mean','std']])"
      ],
      "metadata": {
        "id": "NVJ6ANWroqCa"
      },
      "execution_count": null,
      "outputs": []
    },
    {
      "cell_type": "code",
      "source": [
        "#Normalize\n",
        "normalizer = tf.keras.layers.Normalization(axis=-1)\n",
        "#adapt to our dataset\n",
        "normalizer.adapt(np.array(train_dataset)) # generalised normalizer\n",
        "print(normalizer.mean.numpy())"
      ],
      "metadata": {
        "id": "KSLnTG7BAt3W"
      },
      "execution_count": null,
      "outputs": []
    },
    {
      "cell_type": "markdown",
      "source": [
        "Normalization = (𝑌 - <𝑌>)/σ\n",
        "\n"
      ],
      "metadata": {
        "id": "apVIWNfMjTE9"
      }
    },
    {
      "cell_type": "code",
      "source": [
        "#Build the Linear Regression with a DNN(two hidden layers) for multiple inputs (generalised normalizer)\n",
        "model= tf.keras.Sequential([\n",
        "    normalizer,\n",
        "    layers.Dense(64,activation='relu'),\n",
        "    layers.Dense(32,activation='relu'),\n",
        "    layers.Dense(units=1) #Linearise\n",
        "\n",
        "])\n",
        "model.summary()"
      ],
      "metadata": {
        "id": "LzEJrdv2lEVy"
      },
      "execution_count": null,
      "outputs": []
    },
    {
      "cell_type": "code",
      "source": [
        "model.predict(train_dataset)\n",
        "model.compile(\n",
        "    optimizer=tf.keras.optimizers.Adam(learning_rate=0.1),\n",
        "    loss=keras.losses.MeanAbsoluteError(),\n",
        "    metrics=['mae','mse'])"
      ],
      "metadata": {
        "id": "mnb5ro4dnQOO"
      },
      "execution_count": null,
      "outputs": []
    },
    {
      "cell_type": "code",
      "source": [
        "history= model.fit(\n",
        "    train_dataset,\n",
        "    train_labels,\n",
        "    verbose=1,\n",
        "    epochs=100,\n",
        "    validation_split=0.2)\n",
        "clear_output()"
      ],
      "metadata": {
        "id": "2e3irdJVnjrV"
      },
      "execution_count": null,
      "outputs": []
    },
    {
      "cell_type": "code",
      "execution_count": null,
      "metadata": {
        "id": "Xe7RXH3N3CWU"
      },
      "outputs": [],
      "source": [
        "# RUN THIS CELL TO TEST YOUR MODEL. DO NOT MODIFY CONTENTS.\n",
        "# Test model by checking how well the model generalizes using the test set.\n",
        "loss, mae, mse = model.evaluate(test_dataset, test_labels, verbose=2)\n",
        "\n",
        "print(\"Testing set Mean Abs Error: {:5.2f} expenses\".format(mae))\n",
        "\n",
        "if mae < 3500:\n",
        "  print(\"You passed the challenge. Great job!\")\n",
        "else:\n",
        "  print(\"The Mean Abs Error must be less than 3500. Keep trying.\")\n",
        "\n",
        "# Plot predictions.\n",
        "test_predictions = model.predict(test_dataset).flatten()\n",
        "\n",
        "a = plt.axes(aspect='equal')\n",
        "plt.scatter(test_labels, test_predictions)\n",
        "plt.xlabel('True values (expenses)')\n",
        "plt.ylabel('Predictions (expenses)')\n",
        "lims = [0, 50000]\n",
        "plt.xlim(lims)\n",
        "plt.ylim(lims)\n",
        "_ = plt.plot(lims,lims)\n"
      ]
    }
  ],
  "metadata": {
    "colab": {
      "private_outputs": true,
      "provenance": [],
      "include_colab_link": true
    },
    "kernelspec": {
      "display_name": "Python 3",
      "name": "python3"
    }
  },
  "nbformat": 4,
  "nbformat_minor": 0
}